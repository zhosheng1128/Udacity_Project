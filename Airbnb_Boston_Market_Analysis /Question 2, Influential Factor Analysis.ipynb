{
 "cells": [
  {
   "cell_type": "markdown",
   "metadata": {},
   "source": [
    "##  Question 2: What are the top five influential listing factors/attributes in the Boston market (the other two questions are written separately in other two notebooks)"
   ]
  },
  {
   "cell_type": "markdown",
   "metadata": {},
   "source": [
    "# Section 1: Business Understanding"
   ]
  },
  {
   "cell_type": "markdown",
   "metadata": {},
   "source": [
    "&ensp;  This is the first Udacity Data Science Nano degree project. For this project, I picked the Boston Airbnb dataset(listings.csv) to understand which listing attributes/factors affect Airbnb hosts' bookings:\n",
    "<br> &ensp;  The method for figuring out the top five listing factors is presented in the following general steps:\n",
    "<br> &ensp;  1. Calculate the correlation coefficients between all attributes and listing price\n",
    "<br> &ensp;  2. Rank all coefficients from high to low and select the top five ones\n",
    "<br> &ensp;  3. Plug the five attributes to build a linear regression model \n",
    "<br> &ensp;  4. Split the data into training and testing data set by 7 to 3 ratio\n",
    "<br> &ensp;  5. Calculate R-square value to validate the fitness of the selected attributes for the trained linear model"
   ]
  },
  {
   "cell_type": "code",
   "execution_count": 12,
   "metadata": {},
   "outputs": [],
   "source": [
    "import pandas as pd\n",
    "from sklearn.linear_model import LinearRegression\n",
    "from sklearn.model_selection import train_test_split\n",
    "from sklearn.metrics import r2_score, mean_squared_error"
   ]
  },
  {
   "cell_type": "markdown",
   "metadata": {},
   "source": [
    "# Section 2: Data Understanding"
   ]
  },
  {
   "cell_type": "markdown",
   "metadata": {},
   "source": [
    "&ensp;  After load data into f_attr variable, we find out there are in total 94 attributes including output variable price. There are mixed types of attributes. There are total 3584 records and some of records with missing value in different columns/attributes. In the next section, we have a lot of data cleansing work needed to finish including data type conversion, irrelevant data removal, and fixing the missing data issues. "
   ]
  },
  {
   "cell_type": "code",
   "execution_count": 21,
   "metadata": {},
   "outputs": [
    {
     "name": "stdout",
     "output_type": "stream",
     "text": [
      "<class 'pandas.core.frame.DataFrame'>\n",
      "RangeIndex: 3585 entries, 0 to 3584\n",
      "Data columns (total 95 columns):\n",
      " #   Column                            Non-Null Count  Dtype  \n",
      "---  ------                            --------------  -----  \n",
      " 0   id                                3585 non-null   int64  \n",
      " 1   listing_url                       3585 non-null   object \n",
      " 2   scrape_id                         3585 non-null   int64  \n",
      " 3   last_scraped                      3585 non-null   object \n",
      " 4   name                              3585 non-null   object \n",
      " 5   summary                           3442 non-null   object \n",
      " 6   space                             2528 non-null   object \n",
      " 7   description                       3585 non-null   object \n",
      " 8   experiences_offered               3585 non-null   object \n",
      " 9   neighborhood_overview             2170 non-null   object \n",
      " 10  notes                             1610 non-null   object \n",
      " 11  transit                           2295 non-null   object \n",
      " 12  access                            2096 non-null   object \n",
      " 13  interaction                       2031 non-null   object \n",
      " 14  house_rules                       2393 non-null   object \n",
      " 15  thumbnail_url                     2986 non-null   object \n",
      " 16  medium_url                        2986 non-null   object \n",
      " 17  picture_url                       3585 non-null   object \n",
      " 18  xl_picture_url                    2986 non-null   object \n",
      " 19  host_id                           3585 non-null   int64  \n",
      " 20  host_url                          3585 non-null   object \n",
      " 21  host_name                         3585 non-null   object \n",
      " 22  host_since                        3585 non-null   object \n",
      " 23  host_location                     3574 non-null   object \n",
      " 24  host_about                        2276 non-null   object \n",
      " 25  host_response_time                3114 non-null   object \n",
      " 26  host_response_rate                3114 non-null   object \n",
      " 27  host_acceptance_rate              3114 non-null   object \n",
      " 28  host_is_superhost                 3585 non-null   object \n",
      " 29  host_thumbnail_url                3585 non-null   object \n",
      " 30  host_picture_url                  3585 non-null   object \n",
      " 31  host_neighbourhood                3246 non-null   object \n",
      " 32  host_listings_count               3585 non-null   int64  \n",
      " 33  host_total_listings_count         3585 non-null   int64  \n",
      " 34  host_verifications                3585 non-null   object \n",
      " 35  host_has_profile_pic              3585 non-null   object \n",
      " 36  host_identity_verified            3585 non-null   object \n",
      " 37  street                            3585 non-null   object \n",
      " 38  neighbourhood                     3042 non-null   object \n",
      " 39  neighbourhood_cleansed            3585 non-null   object \n",
      " 40  neighbourhood_group_cleansed      0 non-null      float64\n",
      " 41  city                              3583 non-null   object \n",
      " 42  state                             3585 non-null   object \n",
      " 43  zipcode                           3547 non-null   object \n",
      " 44  market                            3571 non-null   object \n",
      " 45  smart_location                    3585 non-null   object \n",
      " 46  country_code                      3585 non-null   object \n",
      " 47  country                           3585 non-null   object \n",
      " 48  latitude                          3585 non-null   float64\n",
      " 49  longitude                         3585 non-null   float64\n",
      " 50  is_location_exact                 3585 non-null   object \n",
      " 51  property_type                     3582 non-null   object \n",
      " 52  room_type                         3585 non-null   object \n",
      " 53  accommodates                      3585 non-null   int64  \n",
      " 54  bathrooms                         3571 non-null   float64\n",
      " 55  bedrooms                          3575 non-null   float64\n",
      " 56  beds                              3576 non-null   float64\n",
      " 57  bed_type                          3585 non-null   object \n",
      " 58  amenities                         3585 non-null   object \n",
      " 59  square_feet                       56 non-null     float64\n",
      " 60  price                             3585 non-null   object \n",
      " 61  weekly_price                      892 non-null    object \n",
      " 62  monthly_price                     888 non-null    object \n",
      " 63  security_deposit                  1342 non-null   object \n",
      " 64  cleaning_fee                      2478 non-null   object \n",
      " 65  guests_included                   3585 non-null   int64  \n",
      " 66  extra_people                      3585 non-null   object \n",
      " 67  minimum_nights                    3585 non-null   int64  \n",
      " 68  maximum_nights                    3585 non-null   int64  \n",
      " 69  calendar_updated                  3585 non-null   object \n",
      " 70  has_availability                  0 non-null      float64\n",
      " 71  availability_30                   3585 non-null   int64  \n",
      " 72  availability_60                   3585 non-null   int64  \n",
      " 73  availability_90                   3585 non-null   int64  \n",
      " 74  availability_365                  3585 non-null   int64  \n",
      " 75  calendar_last_scraped             3585 non-null   object \n",
      " 76  number_of_reviews                 3585 non-null   int64  \n",
      " 77  first_review                      2829 non-null   object \n",
      " 78  last_review                       2829 non-null   object \n",
      " 79  review_scores_rating              2772 non-null   float64\n",
      " 80  review_scores_accuracy            2762 non-null   float64\n",
      " 81  review_scores_cleanliness         2767 non-null   float64\n",
      " 82  review_scores_checkin             2765 non-null   float64\n",
      " 83  review_scores_communication       2767 non-null   float64\n",
      " 84  review_scores_location            2763 non-null   float64\n",
      " 85  review_scores_value               2764 non-null   float64\n",
      " 86  requires_license                  3585 non-null   object \n",
      " 87  license                           0 non-null      float64\n",
      " 88  jurisdiction_names                0 non-null      float64\n",
      " 89  instant_bookable                  3585 non-null   object \n",
      " 90  cancellation_policy               3585 non-null   object \n",
      " 91  require_guest_profile_picture     3585 non-null   object \n",
      " 92  require_guest_phone_verification  3585 non-null   object \n",
      " 93  calculated_host_listings_count    3585 non-null   int64  \n",
      " 94  reviews_per_month                 2829 non-null   float64\n",
      "dtypes: float64(18), int64(15), object(62)\n",
      "memory usage: 2.6+ MB\n"
     ]
    }
   ],
   "source": [
    "#load data to dataframe called f_attr\n",
    "f_attr=pd.read_csv(r'/Users/zhosheng/Desktop/Study/DS_Udacity_Projects/Boston/listings.csv')\n",
    "\n",
    "#review data\n",
    "f_attr.info()"
   ]
  },
  {
   "cell_type": "markdown",
   "metadata": {},
   "source": [
    "# Section 3: Data Preparation"
   ]
  },
  {
   "cell_type": "markdown",
   "metadata": {},
   "source": [
    "#### Output variable missing/null value handling and data type conversion\n",
    "&ensp;  To better run the linear model in the later section, I decide not to fill the missing value by average or median values since there are not too many missing price values. Simply dropping them is the way to handle it.\n",
    "<br> &ensp;  After missing values are removed, the next step is to convert the price variable from object to float so that later I can run correlation coefficient analysis."
   ]
  },
  {
   "cell_type": "code",
   "execution_count": 22,
   "metadata": {},
   "outputs": [],
   "source": [
    "#remove null value on \"price\" field\n",
    "f_attr=f_attr.dropna(subset=['price'])\n",
    "\n",
    "#since the original data type in \"price\" field is string type, it has to be converted to float for further analysis\n",
    "f_attr['price']=f_attr['price'].str.replace('$','')\n",
    "f_attr['price']=f_attr['price'].str.replace(',','')\n",
    "f_attr['price']=f_attr['price'].astype(str).astype(float)"
   ]
  },
  {
   "cell_type": "markdown",
   "metadata": {},
   "source": [
    "#### Output variable outlier handling\n",
    "&ensp; After handling missing value and converting to float type for price, next step is to deal with the outlier issue. As you might notice the box plot below, the price data distribution is largely stretched to the upper end. The method is to calculate the mean and standard deviation of price in the refined data set; then normalize each individual price by giving a Z score. Any price that is more than 1 standard deviation away from the mean will be considered as outlier and get removed from the data set."
   ]
  },
  {
   "cell_type": "code",
   "execution_count": 23,
   "metadata": {},
   "outputs": [
    {
     "data": {
      "text/plain": [
       "<AxesSubplot:>"
      ]
     },
     "execution_count": 23,
     "metadata": {},
     "output_type": "execute_result"
    },
    {
     "data": {
      "image/png": "[encoded data removed]",
      "text/plain": [
       "<Figure size 640x480 with 1 Axes>"
      ]
     },
     "metadata": {},
     "output_type": "display_data"
    }
   ],
   "source": [
    "#before remove price outliers, what data distribution looks like\n",
    "f_attr.boxplot(column=['price'])"
   ]
  },
  {
   "cell_type": "code",
   "execution_count": 24,
   "metadata": {},
   "outputs": [
    {
     "data": {
      "text/plain": [
       "<AxesSubplot:>"
      ]
     },
     "execution_count": 24,
     "metadata": {},
     "output_type": "execute_result"
    },
    {
     "data": {
      "image/png": "[encoded data removed]",
      "text/plain": [
       "<Figure size 640x480 with 1 Axes>"
      ]
     },
     "metadata": {},
     "output_type": "display_data"
    }
   ],
   "source": [
    "#calculate mean of price in the data set\n",
    "avg=f_attr['price'].mean()\n",
    "\n",
    "#calculate the standard deviation of price in the data set\n",
    "stdev=f_attr['price'].std()\n",
    "\n",
    "#Any price is 1 standard deviation away from the mean will be removed\n",
    "f_attr=f_attr[abs((f_attr['price']-avg)/stdev)<=1]\n",
    "\n",
    "#after outlier being removed, what the new data distribution looks like\n",
    "f_attr.boxplot(column=['price'])"
   ]
  },
  {
   "cell_type": "markdown",
   "metadata": {},
   "source": [
    "#### Attributes data type conversion\n",
    "&ensp; Based on the general knowledge, I manually select security_deposit, cleaning_fee, and extra_people as part of attribute variables and convert them to float. Next step is to remove all object type variables and only include int and float type. Notice that attributes, id, scrape_id, host_id, latitude and longitude aren't related to this analysis although they are int or float type data. Those attributes are removed manually as well.      "
   ]
  },
  {
   "cell_type": "code",
   "execution_count": 25,
   "metadata": {
    "scrolled": true
   },
   "outputs": [
    {
     "data": {
      "text/plain": [
       "Index(['host_listings_count', 'host_total_listings_count',\n",
       "       'neighbourhood_group_cleansed', 'accommodates', 'bathrooms', 'bedrooms',\n",
       "       'beds', 'square_feet', 'price', 'security_deposit', 'cleaning_fee',\n",
       "       'guests_included', 'extra_people', 'minimum_nights', 'maximum_nights',\n",
       "       'has_availability', 'availability_30', 'availability_60',\n",
       "       'availability_90', 'availability_365', 'number_of_reviews',\n",
       "       'review_scores_rating', 'review_scores_accuracy',\n",
       "       'review_scores_cleanliness', 'review_scores_checkin',\n",
       "       'review_scores_communication', 'review_scores_location',\n",
       "       'review_scores_value', 'license', 'jurisdiction_names',\n",
       "       'calculated_host_listings_count', 'reviews_per_month'],\n",
       "      dtype='object')"
      ]
     },
     "execution_count": 25,
     "metadata": {},
     "output_type": "execute_result"
    }
   ],
   "source": [
    "#since the original data type in \"security_deposit\" field is string type, it has to be converted to float for further analysis\n",
    "f_attr['security_deposit']=f_attr['security_deposit'].str.replace('$','')\n",
    "f_attr['security_deposit']=f_attr['security_deposit'].str.replace(',','')\n",
    "f_attr['security_deposit']=f_attr['security_deposit'].astype(str).astype(float)\n",
    "\n",
    "#since the original data type in \"cleaning_fee\" field is string type, it has to be converted to float for further analysis\n",
    "f_attr['cleaning_fee']=f_attr['cleaning_fee'].str.replace('$','')\n",
    "f_attr['cleaning_fee']=f_attr['cleaning_fee'].str.replace(',','')\n",
    "f_attr['cleaning_fee']=f_attr['cleaning_fee'].astype(str).astype(float)\n",
    "\n",
    "#since the original data type in \"extra_people\" field is string type, it has to be converted to float for further analysis\n",
    "f_attr['extra_people']=f_attr['extra_people'].str.replace('$','')\n",
    "f_attr['extra_people']=f_attr['extra_people'].str.replace(',','')\n",
    "f_attr['extra_people']=f_attr['extra_people'].astype(str).astype(float)\n",
    "\n",
    "#remove the fields that are object type\n",
    "f_attr=f_attr.loc[:, f_attr.dtypes!='object']\n",
    "\n",
    "#remove the fields that are irrelevant to the analysis\n",
    "f_attr=f_attr.drop(['id','scrape_id','host_id','latitude','longitude'], axis=1)\n",
    "\n",
    "#review the columns are subject to the next analysis\n",
    "f_attr.columns"
   ]
  },
  {
   "cell_type": "markdown",
   "metadata": {},
   "source": [
    "#### Attribute data missing/null value handling\n",
    "&ensp; After selecting attributes based on business relevancy and data type, the next step is to drop the attributes that have significant amount of miss or null values. The method is calculating the percentage of missing or null values over the total number of records for each attribute. Then I select the top five highest percentage of missing or null value attributes to drop although some of them might be highly relevant in this analysis. Finally,'jurisdiction_names','neighbourhood_group_cleansed','has_availability','license', and 'square_feet' are removed from this analysis."
   ]
  },
  {
   "cell_type": "code",
   "execution_count": 26,
   "metadata": {},
   "outputs": [
    {
     "name": "stdout",
     "output_type": "stream",
     "text": [
      "                                Count Null %\n",
      "neighbourhood_group_cleansed        1.000000\n",
      "has_availability                    1.000000\n",
      "license                             1.000000\n",
      "jurisdiction_names                  1.000000\n",
      "square_feet                         0.985375\n",
      "security_deposit                    0.631322\n",
      "cleaning_fee                        0.313528\n",
      "review_scores_accuracy              0.223644\n",
      "review_scores_location              0.223339\n",
      "review_scores_value                 0.223035\n",
      "review_scores_checkin               0.222730\n",
      "review_scores_communication         0.222121\n",
      "review_scores_cleanliness           0.222121\n",
      "review_scores_rating                0.220597\n",
      "reviews_per_month                   0.204144\n",
      "bathrooms                           0.003961\n",
      "bedrooms                            0.003047\n",
      "beds                                0.002742\n",
      "calculated_host_listings_count      0.000000\n",
      "host_listings_count                 0.000000\n",
      "number_of_reviews                   0.000000\n",
      "availability_365                    0.000000\n",
      "availability_90                     0.000000\n",
      "availability_60                     0.000000\n",
      "host_total_listings_count           0.000000\n",
      "maximum_nights                      0.000000\n",
      "minimum_nights                      0.000000\n",
      "extra_people                        0.000000\n",
      "guests_included                     0.000000\n",
      "accommodates                        0.000000\n",
      "availability_30                     0.000000\n"
     ]
    }
   ],
   "source": [
    "#create two empty lists\n",
    "na_count=[]\n",
    "col_nm=[]\n",
    "\n",
    "#loop through each attribute fields and calculate each field's null value percentage except for \"price\" field\n",
    "for col in f_attr:\n",
    "    if col=='price': continue\n",
    "    na_count.append(f_attr[col].isnull().sum()/f_attr.shape[0])\n",
    "    col_nm.append(col)\n",
    "\n",
    "#create a dataframe to show the null value percentage for each field\n",
    "top_na_count=pd.DataFrame(na_count,index=col_nm, columns=['Count Null %'])    \n",
    "top_na_count=top_na_count.sort_values(by=['Count Null %'], ascending=False)\n",
    "print(top_na_count) \n",
    "\n",
    "#remove columns that have large percentage of null values get removed\n",
    "f_attr=f_attr.drop(['jurisdiction_names','neighbourhood_group_cleansed','has_availability','license','square_feet'], axis=1)"
   ]
  },
  {
   "cell_type": "markdown",
   "metadata": {},
   "source": [
    "#### Attribute data selection\n",
    "&ensp; In order to avoid the overfitting, I need to select attributes that are the most relevant to price from a statistical point of view. The method is to calculate correlation coefficients. I create a for loop to calculate correlation coefficient between each field and output variable, price. Rank the coefficient from high to low and select the attributes with associated top 10 highest coefficients. "
   ]
  },
  {
   "cell_type": "code",
   "execution_count": 27,
   "metadata": {},
   "outputs": [
    {
     "name": "stdout",
     "output_type": "stream",
     "text": [
      "                                Correlation with Price\n",
      "accommodates                                  0.533715\n",
      "cleaning_fee                                  0.453581\n",
      "beds                                          0.368865\n",
      "bedrooms                                      0.359457\n",
      "host_listings_count                           0.335290\n",
      "host_total_listings_count                     0.335290\n",
      "calculated_host_listings_count                0.326293\n",
      "guests_included                               0.268447\n",
      "review_scores_location                        0.241270\n",
      "security_deposit                              0.207809\n",
      "availability_30                               0.178800\n",
      "review_scores_cleanliness                     0.177583\n",
      "availability_60                               0.152745\n",
      "reviews_per_month                             0.141336\n",
      "availability_90                               0.138968\n",
      "number_of_reviews                             0.106935\n",
      "review_scores_rating                          0.103643\n",
      "bathrooms                                     0.096947\n",
      "review_scores_accuracy                        0.056860\n",
      "extra_people                                  0.029380\n",
      "minimum_nights                                0.020669\n",
      "review_scores_value                           0.018036\n",
      "review_scores_checkin                         0.012945\n",
      "availability_365                              0.008945\n",
      "maximum_nights                                0.004983\n",
      "review_scores_communication                   0.003445\n",
      "      price  accommodates  cleaning_fee  bedrooms  beds  host_listings_count  \\\n",
      "0     250.0             4          35.0       2.0   3.0                    1   \n",
      "1      65.0             2          10.0       1.0   1.0                    1   \n",
      "2      65.0             2           NaN       1.0   1.0                    1   \n",
      "3      75.0             4          50.0       1.0   2.0                    1   \n",
      "4      79.0             2          15.0       1.0   2.0                    1   \n",
      "...     ...           ...           ...       ...   ...                  ...   \n",
      "3580   69.0             3           NaN       1.0   1.0                   28   \n",
      "3581  150.0             2          15.0       1.0   1.0                    2   \n",
      "3582  198.0             4           NaN       1.0   1.0                    1   \n",
      "3583   65.0             2           NaN       1.0   1.0                    4   \n",
      "3584   65.0             2          25.0       1.0   1.0                   14   \n",
      "\n",
      "      host_total_listings_count  calculated_host_listings_count  \\\n",
      "0                             1                               1   \n",
      "1                             1                               1   \n",
      "2                             1                               1   \n",
      "3                             1                               1   \n",
      "4                             1                               1   \n",
      "...                         ...                             ...   \n",
      "3580                         28                               8   \n",
      "3581                          2                               2   \n",
      "3582                          1                               1   \n",
      "3583                          4                               1   \n",
      "3584                         14                               3   \n",
      "\n",
      "      guests_included  review_scores_location  security_deposit  \n",
      "0                   1                     NaN               NaN  \n",
      "1                   0                     9.0              95.0  \n",
      "2                   1                     9.0               NaN  \n",
      "3                   2                    10.0             100.0  \n",
      "4                   1                     9.0               NaN  \n",
      "...               ...                     ...               ...  \n",
      "3580                1                     8.0              95.0  \n",
      "3581                1                     NaN             100.0  \n",
      "3582                1                     NaN               NaN  \n",
      "3583                1                     8.0             100.0  \n",
      "3584                1                     NaN               NaN  \n",
      "\n",
      "[3282 rows x 11 columns]\n"
     ]
    }
   ],
   "source": [
    "\"\"\"this part is to calculate the correlation between each fields and \"price\" attribute\"\"\"\n",
    "\n",
    "#create two empty lists\n",
    "corr_val=[]\n",
    "col_nm=[]\n",
    "\n",
    "#use pearson method to calculate the correlation\n",
    "for col in f_attr:\n",
    "    if col=='price': continue\n",
    "    corr_val.append((f_attr['price'].corr(f_attr[col],method='pearson')))\n",
    "    col_nm.append(col)\n",
    "\n",
    "#create a dataframe to capture the correlation between each field and \"price\"    \n",
    "corr_price=pd.DataFrame(corr_val, index=col_nm, columns=['Correlation with Price'])\n",
    "\n",
    "#sort the correlation in descending order to pick the top 10 attributes\n",
    "corr_price_abs=corr_price.abs()\n",
    "corr_price_abs=corr_price_abs.sort_values(by=['Correlation with Price'], ascending=False)\n",
    "print(corr_price_abs)\n",
    "\n",
    "# pick top 10 attributes\n",
    "f_attr=f_attr[['price','accommodates','cleaning_fee','bedrooms','beds','host_listings_count','host_total_listings_count','calculated_host_listings_count','guests_included','review_scores_location','security_deposit']]\n",
    "print(f_attr)"
   ]
  },
  {
   "cell_type": "markdown",
   "metadata": {},
   "source": [
    "#### Final selected attribute missing/null value handling\n",
    "&ensp; According to correlation coefficients, I select 10 attributes that are the most influential to booking price. Now I want to test how well those 10 attributes predict booking price if they are really influential factors to booking price. The 1st step is to deal with the missing/null value for the attributes. The method is to calculate median value due to the wide spread data distribution. "
   ]
  },
  {
   "cell_type": "code",
   "execution_count": 29,
   "metadata": {},
   "outputs": [
    {
     "data": {
      "text/html": [
       "<div>\n",
       "<style scoped>\n",
       "    .dataframe tbody tr th:only-of-type {\n",
       "        vertical-align: middle;\n",
       "    }\n",
       "\n",
       "    .dataframe tbody tr th {\n",
       "        vertical-align: top;\n",
       "    }\n",
       "\n",
       "    .dataframe thead th {\n",
       "        text-align: right;\n",
       "    }\n",
       "</style>\n",
       "<table border=\"1\" class=\"dataframe\">\n",
       "  <thead>\n",
       "    <tr style=\"text-align: right;\">\n",
       "      <th></th>\n",
       "      <th>price</th>\n",
       "      <th>accommodates</th>\n",
       "      <th>cleaning_fee</th>\n",
       "      <th>bedrooms</th>\n",
       "      <th>beds</th>\n",
       "      <th>host_listings_count</th>\n",
       "      <th>host_total_listings_count</th>\n",
       "      <th>calculated_host_listings_count</th>\n",
       "      <th>guests_included</th>\n",
       "      <th>review_scores_location</th>\n",
       "      <th>security_deposit</th>\n",
       "    </tr>\n",
       "  </thead>\n",
       "  <tbody>\n",
       "    <tr>\n",
       "      <th>0</th>\n",
       "      <td>250.0</td>\n",
       "      <td>4</td>\n",
       "      <td>35.0</td>\n",
       "      <td>2.0</td>\n",
       "      <td>3.0</td>\n",
       "      <td>1</td>\n",
       "      <td>1</td>\n",
       "      <td>1</td>\n",
       "      <td>1</td>\n",
       "      <td>10.0</td>\n",
       "      <td>200.0</td>\n",
       "    </tr>\n",
       "    <tr>\n",
       "      <th>1</th>\n",
       "      <td>65.0</td>\n",
       "      <td>2</td>\n",
       "      <td>10.0</td>\n",
       "      <td>1.0</td>\n",
       "      <td>1.0</td>\n",
       "      <td>1</td>\n",
       "      <td>1</td>\n",
       "      <td>1</td>\n",
       "      <td>0</td>\n",
       "      <td>9.0</td>\n",
       "      <td>95.0</td>\n",
       "    </tr>\n",
       "    <tr>\n",
       "      <th>2</th>\n",
       "      <td>65.0</td>\n",
       "      <td>2</td>\n",
       "      <td>50.0</td>\n",
       "      <td>1.0</td>\n",
       "      <td>1.0</td>\n",
       "      <td>1</td>\n",
       "      <td>1</td>\n",
       "      <td>1</td>\n",
       "      <td>1</td>\n",
       "      <td>9.0</td>\n",
       "      <td>200.0</td>\n",
       "    </tr>\n",
       "    <tr>\n",
       "      <th>3</th>\n",
       "      <td>75.0</td>\n",
       "      <td>4</td>\n",
       "      <td>50.0</td>\n",
       "      <td>1.0</td>\n",
       "      <td>2.0</td>\n",
       "      <td>1</td>\n",
       "      <td>1</td>\n",
       "      <td>1</td>\n",
       "      <td>2</td>\n",
       "      <td>10.0</td>\n",
       "      <td>100.0</td>\n",
       "    </tr>\n",
       "    <tr>\n",
       "      <th>4</th>\n",
       "      <td>79.0</td>\n",
       "      <td>2</td>\n",
       "      <td>15.0</td>\n",
       "      <td>1.0</td>\n",
       "      <td>2.0</td>\n",
       "      <td>1</td>\n",
       "      <td>1</td>\n",
       "      <td>1</td>\n",
       "      <td>1</td>\n",
       "      <td>9.0</td>\n",
       "      <td>200.0</td>\n",
       "    </tr>\n",
       "    <tr>\n",
       "      <th>...</th>\n",
       "      <td>...</td>\n",
       "      <td>...</td>\n",
       "      <td>...</td>\n",
       "      <td>...</td>\n",
       "      <td>...</td>\n",
       "      <td>...</td>\n",
       "      <td>...</td>\n",
       "      <td>...</td>\n",
       "      <td>...</td>\n",
       "      <td>...</td>\n",
       "      <td>...</td>\n",
       "    </tr>\n",
       "    <tr>\n",
       "      <th>3580</th>\n",
       "      <td>69.0</td>\n",
       "      <td>3</td>\n",
       "      <td>50.0</td>\n",
       "      <td>1.0</td>\n",
       "      <td>1.0</td>\n",
       "      <td>28</td>\n",
       "      <td>28</td>\n",
       "      <td>8</td>\n",
       "      <td>1</td>\n",
       "      <td>8.0</td>\n",
       "      <td>95.0</td>\n",
       "    </tr>\n",
       "    <tr>\n",
       "      <th>3581</th>\n",
       "      <td>150.0</td>\n",
       "      <td>2</td>\n",
       "      <td>15.0</td>\n",
       "      <td>1.0</td>\n",
       "      <td>1.0</td>\n",
       "      <td>2</td>\n",
       "      <td>2</td>\n",
       "      <td>2</td>\n",
       "      <td>1</td>\n",
       "      <td>10.0</td>\n",
       "      <td>100.0</td>\n",
       "    </tr>\n",
       "    <tr>\n",
       "      <th>3582</th>\n",
       "      <td>198.0</td>\n",
       "      <td>4</td>\n",
       "      <td>50.0</td>\n",
       "      <td>1.0</td>\n",
       "      <td>1.0</td>\n",
       "      <td>1</td>\n",
       "      <td>1</td>\n",
       "      <td>1</td>\n",
       "      <td>1</td>\n",
       "      <td>10.0</td>\n",
       "      <td>200.0</td>\n",
       "    </tr>\n",
       "    <tr>\n",
       "      <th>3583</th>\n",
       "      <td>65.0</td>\n",
       "      <td>2</td>\n",
       "      <td>50.0</td>\n",
       "      <td>1.0</td>\n",
       "      <td>1.0</td>\n",
       "      <td>4</td>\n",
       "      <td>4</td>\n",
       "      <td>1</td>\n",
       "      <td>1</td>\n",
       "      <td>8.0</td>\n",
       "      <td>100.0</td>\n",
       "    </tr>\n",
       "    <tr>\n",
       "      <th>3584</th>\n",
       "      <td>65.0</td>\n",
       "      <td>2</td>\n",
       "      <td>25.0</td>\n",
       "      <td>1.0</td>\n",
       "      <td>1.0</td>\n",
       "      <td>14</td>\n",
       "      <td>14</td>\n",
       "      <td>3</td>\n",
       "      <td>1</td>\n",
       "      <td>10.0</td>\n",
       "      <td>200.0</td>\n",
       "    </tr>\n",
       "  </tbody>\n",
       "</table>\n",
       "<p>3282 rows × 11 columns</p>\n",
       "</div>"
      ],
      "text/plain": [
       "      price  accommodates  cleaning_fee  bedrooms  beds  host_listings_count  \\\n",
       "0     250.0             4          35.0       2.0   3.0                    1   \n",
       "1      65.0             2          10.0       1.0   1.0                    1   \n",
       "2      65.0             2          50.0       1.0   1.0                    1   \n",
       "3      75.0             4          50.0       1.0   2.0                    1   \n",
       "4      79.0             2          15.0       1.0   2.0                    1   \n",
       "...     ...           ...           ...       ...   ...                  ...   \n",
       "3580   69.0             3          50.0       1.0   1.0                   28   \n",
       "3581  150.0             2          15.0       1.0   1.0                    2   \n",
       "3582  198.0             4          50.0       1.0   1.0                    1   \n",
       "3583   65.0             2          50.0       1.0   1.0                    4   \n",
       "3584   65.0             2          25.0       1.0   1.0                   14   \n",
       "\n",
       "      host_total_listings_count  calculated_host_listings_count  \\\n",
       "0                             1                               1   \n",
       "1                             1                               1   \n",
       "2                             1                               1   \n",
       "3                             1                               1   \n",
       "4                             1                               1   \n",
       "...                         ...                             ...   \n",
       "3580                         28                               8   \n",
       "3581                          2                               2   \n",
       "3582                          1                               1   \n",
       "3583                          4                               1   \n",
       "3584                         14                               3   \n",
       "\n",
       "      guests_included  review_scores_location  security_deposit  \n",
       "0                   1                    10.0             200.0  \n",
       "1                   0                     9.0              95.0  \n",
       "2                   1                     9.0             200.0  \n",
       "3                   2                    10.0             100.0  \n",
       "4                   1                     9.0             200.0  \n",
       "...               ...                     ...               ...  \n",
       "3580                1                     8.0              95.0  \n",
       "3581                1                    10.0             100.0  \n",
       "3582                1                    10.0             200.0  \n",
       "3583                1                     8.0             100.0  \n",
       "3584                1                    10.0             200.0  \n",
       "\n",
       "[3282 rows x 11 columns]"
      ]
     },
     "execution_count": 29,
     "metadata": {},
     "output_type": "execute_result"
    }
   ],
   "source": [
    "#replace null value by median for each attribute field\n",
    "for col in f_attr:\n",
    "    f_attr[col]=f_attr[col].fillna(f_attr[col].median())      \n",
    "    \n",
    "f_attr"
   ]
  },
  {
   "cell_type": "markdown",
   "metadata": {},
   "source": [
    "# Section 4: Data Modeling\n",
    "&ensp; In this section, I will use the final data set with the final selected attribute to run the linear regression model. I will split the data set to training and testing data sets by 7 to 3 ratio. 70% percent of the data set goes to train the linear model. 30% percent will do the prediction for the booking price. The final step is to calculate R-squared value between the actual booking price of the 30% data set and predicted booking price. The general logic behind this modeling process is that calculating R-squared value provides the accuracy of the model. Then high accuracy of the linear model indicates the validation of the selected attributes, which provides the evidence of influence on the booking price from the selected attributes.  "
   ]
  },
  {
   "cell_type": "code",
   "execution_count": 31,
   "metadata": {},
   "outputs": [
    {
     "name": "stderr",
     "output_type": "stream",
     "text": [
      "/Library/Frameworks/Python.framework/Versions/3.7/lib/python3.7/site-packages/sklearn/linear_model/_base.py:145: FutureWarning: 'normalize' was deprecated in version 1.0 and will be removed in 1.2.\n",
      "If you wish to scale the data, use Pipeline with a StandardScaler in a preprocessing stage. To reproduce the previous behavior:\n",
      "\n",
      "from sklearn.pipeline import make_pipeline\n",
      "\n",
      "model = make_pipeline(StandardScaler(with_mean=False), LinearRegression())\n",
      "\n",
      "If you wish to pass a sample_weight parameter, you need to pass it as a fit parameter to each step of the pipeline as follows:\n",
      "\n",
      "kwargs = {s[0] + '__sample_weight': sample_weight for s in model.steps}\n",
      "model.fit(X, y, **kwargs)\n",
      "\n",
      "\n",
      "  FutureWarning,\n"
     ]
    }
   ],
   "source": [
    "\"\"\"this is a simple version of building linear regression model \"\"\"\n",
    "\n",
    "#assign all attributes to x variable except \"price\"\n",
    "x=f_attr.drop(['price'],axis=1)\n",
    "\n",
    "#assign \"price\" to y variable \n",
    "y=f_attr['price']\n",
    "\n",
    "#split the x, y data set into training and testing data sets by 3 to 7 ratio\n",
    "x_train, x_test, y_train, y_test=train_test_split(x, y, test_size=0.3, random_state=42)\n",
    "\n",
    "#use the training data set to tran the linear model\n",
    "lm_model=LinearRegression(normalize=True)\n",
    "try:\n",
    "    lm_model.fit(x_train, y_train)\n",
    "except:\n",
    "    print(\"There is an error\")\n",
    "    \n",
    "#apply the test data set to the trained model\n",
    "y_test_pred=lm_model.predict(x_test)"
   ]
  },
  {
   "cell_type": "markdown",
   "metadata": {},
   "source": [
    "# Section 5: Evaluate the Results"
   ]
  },
  {
   "cell_type": "markdown",
   "metadata": {},
   "source": [
    "&ensp; The R-square value is approximately 0.41, which means the accuracy of the model is fair. And it further implies the selection of attributes that most influence the booking price is relatively fair."
   ]
  },
  {
   "cell_type": "code",
   "execution_count": 32,
   "metadata": {},
   "outputs": [
    {
     "data": {
      "text/plain": [
       "0.40993933979117114"
      ]
     },
     "execution_count": 32,
     "metadata": {},
     "output_type": "execute_result"
    }
   ],
   "source": [
    "#calculate the r-squre to evaluate how suitable the model is \n",
    "r2_test=r2_score(y_test,y_test_pred)\n",
    "\n",
    "r2_test"
   ]
  }
 ],
 "metadata": {
  "kernelspec": {
   "display_name": "Python 3 (ipykernel)",
   "language": "python",
   "name": "python3"
  },
  "language_info": {
   "codemirror_mode": {
    "name": "ipython",
    "version": 3
   },
   "file_extension": ".py",
   "mimetype": "text/x-python",
   "name": "python",
   "nbconvert_exporter": "python",
   "pygments_lexer": "ipython3",
   "version": "3.7.0"
  }
 },
 "nbformat": 4,
 "nbformat_minor": 2
}
